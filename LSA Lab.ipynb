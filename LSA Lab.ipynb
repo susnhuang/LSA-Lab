{
 "cells": [
  {
   "cell_type": "code",
   "execution_count": 1,
   "metadata": {
    "collapsed": true
   },
   "outputs": [],
   "source": [
    "import nltk"
   ]
  },
  {
   "cell_type": "code",
   "execution_count": 2,
   "metadata": {
    "collapsed": true
   },
   "outputs": [],
   "source": [
    "from nltk.corpus import stopwords"
   ]
  },
  {
   "cell_type": "code",
   "execution_count": 3,
   "metadata": {
    "collapsed": true
   },
   "outputs": [],
   "source": [
    "from sklearn.feature_extraction.text import TfidfVectorizer"
   ]
  },
  {
   "cell_type": "code",
   "execution_count": 4,
   "metadata": {
    "collapsed": true
   },
   "outputs": [],
   "source": [
    "from sklearn.decomposition import TruncatedSVD"
   ]
  },
  {
   "cell_type": "code",
   "execution_count": 5,
   "metadata": {
    "collapsed": true
   },
   "outputs": [],
   "source": [
    "from sklearn.datasets import fetch_20newsgroups"
   ]
  },
  {
   "cell_type": "code",
   "execution_count": 6,
   "metadata": {
    "collapsed": true
   },
   "outputs": [],
   "source": [
    "categories = ['sci.electronics']"
   ]
  },
  {
   "cell_type": "code",
   "execution_count": 7,
   "metadata": {
    "collapsed": true
   },
   "outputs": [],
   "source": [
    "dataset = fetch_20newsgroups(subset='all',shuffle=True, random_state=42, categories=categories)"
   ]
  },
  {
   "cell_type": "code",
   "execution_count": 8,
   "metadata": {
    "collapsed": true
   },
   "outputs": [],
   "source": [
    "corpus = dataset.data"
   ]
  },
  {
   "cell_type": "code",
   "execution_count": 9,
   "metadata": {
    "collapsed": true
   },
   "outputs": [],
   "source": [
    "postDocs = [x for x in corpus]"
   ]
  },
  {
   "cell_type": "code",
   "execution_count": 10,
   "metadata": {
    "collapsed": false
   },
   "outputs": [
    {
     "data": {
      "text/plain": [
       "u'From: mpaul@unl.edu (marxhausen paul)\\nSubject: Re: How to the disks copy protected.\\nOrganization: University of Nebraska--Lincoln\\t\\nLines: 14\\nDistribution: world\\nNNTP-Posting-Host: unlinfo.unl.edu\\n\\nComments about \"who needs backup copies\"?  and \"YOU do\" deleted....\\n\\nI\\'ll toss in my 2 cents worth - I\\'ve begun to think that distribution\\ndisks are made on some of the least reliable floppy disk stocks available.\\nWe\\'ve been especially plagued by Borland\\'s distribution disks.  I\\'m \\nlucky if I can install from them as many as 3 times before they crap \\nout on me.  So definitely, as a matter of course we ALWAYS make copies\\nto do our installations with.\\n\\n--\\npaul marxhausen .... ....... ............. ............ ............ .......... \\n .. . .  . . . university of nebraska - lincoln .  . . .. . .  .. . . . . . . .\\n .     .    .  .   .     .   .  .    .   .  .   .    .   .  grace .   .    .  . \\n   .         .       .      .        .        .      .        .   happens .     \\n'"
      ]
     },
     "execution_count": 10,
     "metadata": {},
     "output_type": "execute_result"
    }
   ],
   "source": [
    "postDocs.pop(0)"
   ]
  },
  {
   "cell_type": "code",
   "execution_count": 11,
   "metadata": {
    "collapsed": true
   },
   "outputs": [],
   "source": [
    "postDocs = [x.lower() for x in postDocs]"
   ]
  },
  {
   "cell_type": "code",
   "execution_count": 12,
   "metadata": {
    "collapsed": true
   },
   "outputs": [],
   "source": [
    "stopset = set(stopwords.words('english'))"
   ]
  },
  {
   "cell_type": "code",
   "execution_count": 13,
   "metadata": {
    "collapsed": false
   },
   "outputs": [
    {
     "data": {
      "text/plain": [
       "u\"subject: re: what do nuclear site's cooling towers do?\\nfrom: ganter@ifi.unibas.ch (robert ganter)\\norganization: institut fuer informatik\\nnntp-posting-host: schroeder.ifi.unibas.ch\\nlines: 34\\n\\nin article <1qlg9o$d7q@sequoia.ccsd.uts.edu.au>  writes:\\n> \\n> \\n> i really don't know where to post this question so i figured that\\n> this board would be most appropriate.\\n> i was wondering about those massive concrete cylinders that\\n> are ever present at nuclear poer sites. they look like cylinders\\n> that have been pinched in the middle. does anybody know what the\\n> actual purpose of those things are?. i hear that they're called\\n> 'cooling towers' but what the heck do they cool?\\n> i hope someone can help \\n> \\n\\nthis is definitely the wrong newsgroup for this, but never mind.\\nany machine powered by heat (motor, steam- or gasturbine, steamengine,  \\nthermoelement,etc) work the better, the bigger the temperature difference  \\nbetween input and output is. because you never get all thermic energy out of  \\nthe powering medium (steam, burning gaz, etc), you have to eliminate the rest  \\nof the energy to keep the efficency high. a thermal electric power plant (coal,  \\noil or atomic power) works just the same way. you heat water (steam) to power  \\nthe turbine and generators. because you don't get the whole energy out of the  \\nsteam (efficency is never 100%) you have to cool down this steam again by  \\nsomething else. most power plants use cooling towers for this purpose (some  \\ntype of mega-refrigerator...). others use water of a river (ecologically not  \\nunobjectionable). got it ?\\n\\ncheers   robert  (hb9nby)\\n--\\nrobert ganter\\t\\t\\t/------------\\\\\\nuniversitaet basel\\t\\t| i am a fan |\\ninstitut fuer informatik\\t| of my plan |\\nbasel/switzerland\\t\\t\\\\------------/\\nganter@ifi.unibas.ch\\namateurradio: hb9nby\\tpacket: hb9nby@hb9eas.che.eu\\n\""
      ]
     },
     "execution_count": 13,
     "metadata": {},
     "output_type": "execute_result"
    }
   ],
   "source": [
    "postDocs[0]"
   ]
  },
  {
   "cell_type": "code",
   "execution_count": 14,
   "metadata": {
    "collapsed": true
   },
   "outputs": [],
   "source": [
    "stopset.update(['\\n','\\t'])"
   ]
  },
  {
   "cell_type": "code",
   "execution_count": 15,
   "metadata": {
    "collapsed": true
   },
   "outputs": [],
   "source": [
    "vectorizer = TfidfVectorizer(stop_words = stopset, use_idf = True, ngram_range=(1,3))"
   ]
  },
  {
   "cell_type": "code",
   "execution_count": 16,
   "metadata": {
    "collapsed": true
   },
   "outputs": [],
   "source": [
    "X = vectorizer.fit_transform(postDocs)"
   ]
  },
  {
   "cell_type": "code",
   "execution_count": 17,
   "metadata": {
    "collapsed": false
   },
   "outputs": [
    {
     "data": {
      "text/plain": [
       "<1x176298 sparse matrix of type '<type 'numpy.float64'>'\n",
       "\twith 467 stored elements in Compressed Sparse Row format>"
      ]
     },
     "execution_count": 17,
     "metadata": {},
     "output_type": "execute_result"
    }
   ],
   "source": [
    "X[0]"
   ]
  },
  {
   "cell_type": "code",
   "execution_count": 18,
   "metadata": {
    "collapsed": false
   },
   "outputs": [
    {
     "name": "stdout",
     "output_type": "stream",
     "text": [
      "  (0, 73759)\t0.0398354545884\n",
      "  (0, 73762)\t0.0398354545884\n",
      "  (0, 114109)\t0.0398354545884\n",
      "  (0, 73764)\t0.0398354545884\n",
      "  (0, 16650)\t0.0398354545884\n",
      "  (0, 33703)\t0.0398354545884\n",
      "  (0, 161346)\t0.0398354545884\n",
      "  (0, 151044)\t0.0398354545884\n",
      "  (0, 23749)\t0.0398354545884\n",
      "  (0, 118386)\t0.0398354545884\n",
      "  (0, 80584)\t0.0398354545884\n",
      "  (0, 66654)\t0.0398354545884\n",
      "  (0, 61931)\t0.0398354545884\n",
      "  (0, 23747)\t0.0398354545884\n",
      "  (0, 161577)\t0.0398354545884\n",
      "  (0, 67362)\t0.0398354545884\n",
      "  (0, 133457)\t0.0398354545884\n",
      "  (0, 73766)\t0.0398354545884\n",
      "  (0, 133459)\t0.0398354545884\n",
      "  (0, 34634)\t0.0398354545884\n",
      "  (0, 70536)\t0.047009992007\n",
      "  (0, 162173)\t0.047009992007\n",
      "  (0, 54437)\t0.047009992007\n",
      "  (0, 133306)\t0.047009992007\n",
      "  (0, 168886)\t0.047009992007\n",
      "  :\t:\n",
      "  (0, 138452)\t0.0398354545884\n",
      "  (0, 45765)\t0.0398354545884\n",
      "  (0, 4044)\t0.0398354545884\n",
      "  (0, 20341)\t0.0121686746243\n",
      "  (0, 6816)\t0.0319728555397\n",
      "  (0, 91137)\t0.00653718549913\n",
      "  (0, 135946)\t0.0398354545884\n",
      "  (0, 76476)\t0.0116982113145\n",
      "  (0, 120317)\t0.0116399024861\n",
      "  (0, 107142)\t0.0117422871537\n",
      "  (0, 80580)\t0.0796709091767\n",
      "  (0, 66651)\t0.0796709091767\n",
      "  (0, 81798)\t0.0776575331533\n",
      "  (0, 111818)\t0.00671224152711\n",
      "  (0, 133442)\t0.0861075593733\n",
      "  (0, 33697)\t0.109498453996\n",
      "  (0, 161344)\t0.119506363765\n",
      "  (0, 78847)\t0.119506363765\n",
      "  (0, 67356)\t0.159341818353\n",
      "  (0, 157317)\t0.0949626874738\n",
      "  (0, 42227)\t0.0923465890117\n",
      "  (0, 141531)\t0.0268237989587\n",
      "  (0, 108193)\t0.0627008561685\n",
      "  (0, 127322)\t0.0182577338418\n",
      "  (0, 148217)\t0.0065305453914\n"
     ]
    }
   ],
   "source": [
    "print X[0]"
   ]
  },
  {
   "cell_type": "code",
   "execution_count": 19,
   "metadata": {
    "collapsed": false
   },
   "outputs": [
    {
     "data": {
      "text/plain": [
       "(983, 176298)"
      ]
     },
     "execution_count": 19,
     "metadata": {},
     "output_type": "execute_result"
    }
   ],
   "source": [
    "X.shape"
   ]
  },
  {
   "cell_type": "code",
   "execution_count": 21,
   "metadata": {
    "collapsed": false
   },
   "outputs": [],
   "source": [
    "lsa = TruncatedSVD(n_components=27, n_iter=100)"
   ]
  },
  {
   "cell_type": "code",
   "execution_count": 22,
   "metadata": {
    "collapsed": false
   },
   "outputs": [
    {
     "data": {
      "text/plain": [
       "TruncatedSVD(algorithm='randomized', n_components=27, n_iter=100,\n",
       "       random_state=None, tol=0.0)"
      ]
     },
     "execution_count": 22,
     "metadata": {},
     "output_type": "execute_result"
    }
   ],
   "source": [
    "lsa.fit(X)"
   ]
  },
  {
   "cell_type": "code",
   "execution_count": 23,
   "metadata": {
    "collapsed": false
   },
   "outputs": [
    {
     "data": {
      "text/plain": [
       "array([ 0.01202909,  0.00082205,  0.00082205, ...,  0.00130052,\n",
       "        0.00130052,  0.00130052])"
      ]
     },
     "execution_count": 23,
     "metadata": {},
     "output_type": "execute_result"
    }
   ],
   "source": [
    "lsa.components_[0]"
   ]
  },
  {
   "cell_type": "code",
   "execution_count": 24,
   "metadata": {
    "collapsed": true
   },
   "outputs": [],
   "source": [
    "terms = vectorizer.get_feature_names()"
   ]
  },
  {
   "cell_type": "code",
   "execution_count": 27,
   "metadata": {
    "collapsed": false
   },
   "outputs": [
    {
     "name": "stdout",
     "output_type": "stream",
     "text": [
      "Concept 0:\n",
      "edu\n",
      "com\n",
      "would\n",
      "one\n",
      "re\n",
      "ca\n",
      "lines\n",
      "use\n",
      "writes\n",
      "subject\n",
      " \n",
      "Concept 1:\n",
      "re\n",
      "audio\n",
      "even\n",
      "lines\n",
      "hp\n",
      "subject\n",
      "line\n",
      "boards\n",
      "hp com\n",
      "around\n",
      " \n",
      "Concept 2:\n",
      "edu\n",
      "use\n",
      "writes\n",
      "ground\n",
      "wire\n",
      "wiring\n",
      "power\n",
      "ai\n",
      "re\n",
      "one\n",
      " \n",
      "Concept 3:\n",
      "com\n",
      "wiring\n",
      "subject re\n",
      "much\n",
      "wire\n",
      "neutral\n",
      "battery\n",
      "outlets\n",
      "gfci\n",
      "radio\n",
      " \n",
      "Concept 4:\n",
      "wiring\n",
      "00 00 gmt\n",
      "neutral\n",
      "wire\n",
      "outlets\n",
      "00 44 18\n",
      "used\n",
      "00 1993\n",
      "gfci\n",
      "get\n",
      " \n",
      "Concept 5:\n",
      "subject\n",
      "writes\n",
      "article\n",
      "subject re\n",
      "radio\n",
      "anyone\n",
      "think\n",
      "voltage\n",
      "thanks\n",
      "michael\n",
      " \n",
      "Concept 6:\n",
      "com\n",
      "number\n",
      "lines\n",
      "two\n",
      "thanks\n",
      "00 00 gmt\n",
      "problem\n",
      "re\n",
      "want\n",
      "00 38 00\n",
      " \n",
      "Concept 7:\n",
      "circuit\n",
      "lines\n",
      "ve\n",
      "re\n",
      "ca\n",
      "wiring\n",
      "university\n",
      "also\n",
      "could\n",
      "good\n",
      " \n",
      "Concept 8:\n",
      "com\n",
      "re\n",
      "help\n",
      "article\n",
      "00 38\n",
      "good\n",
      "uk\n",
      "organization\n",
      "oversampling\n",
      "using\n",
      " \n",
      "Concept 9:\n",
      "writes\n",
      "edu\n",
      "00 18 edt\n",
      "00 44 18\n",
      "like\n",
      "00 18\n",
      "ca\n",
      "used\n",
      "sure\n",
      "nntp\n",
      " \n",
      "Concept 10:\n",
      "com\n",
      "edu\n",
      "university\n",
      "organization\n",
      "00 38\n",
      "get\n",
      "hp\n",
      "really\n",
      "phone\n",
      "posting\n",
      " \n",
      "Concept 11:\n",
      "posting\n",
      "00 38\n",
      "like\n",
      "one\n",
      "wire\n",
      "got\n",
      "00 44 18\n",
      "make\n",
      "university\n",
      "use\n",
      " \n",
      "Concept 12:\n",
      "edu\n",
      "00 1993 lines\n",
      "host\n",
      "two\n",
      "posting\n",
      "know\n",
      "new\n",
      "00 00 gmt\n",
      "organization\n",
      "high\n",
      " \n",
      "Concept 13:\n",
      "organization\n",
      "using\n",
      "think\n",
      "copy\n",
      "00 18 edt\n",
      "time\n",
      "lines\n",
      "phone\n",
      "info\n",
      "problem\n",
      " \n",
      "Concept 14:\n",
      "would\n",
      "host\n",
      "lines\n",
      "much\n",
      "get\n",
      "posting\n",
      "company\n",
      "edu\n",
      "10\n",
      "00 18\n",
      " \n",
      "Concept 15:\n",
      "com\n",
      "would\n",
      "also\n",
      "host\n",
      "use\n",
      "subject re\n",
      "uk\n",
      "get\n",
      "high\n",
      "usa\n",
      " \n",
      "Concept 16:\n",
      "edu\n",
      "subject\n",
      "re\n",
      "article\n",
      "subject re\n",
      "one\n",
      "would\n",
      "two\n",
      "organization\n",
      "ca\n",
      " \n",
      "Concept 17:\n",
      "article\n",
      "00 1993\n",
      "com\n",
      "00 38 00\n",
      "subject re\n",
      "lines\n",
      "posting\n",
      "00 1993 fujitsu\n",
      "like\n",
      "use\n",
      " \n",
      "Concept 18:\n",
      "would\n",
      "host\n",
      "00 00 gmt\n",
      "com\n",
      "00 18 edt\n",
      "circuit\n",
      "use\n",
      "anyone\n",
      "got\n",
      "00 44 18\n",
      " \n",
      "Concept 19:\n",
      "com\n",
      "one\n",
      "writes\n",
      "work\n",
      "much\n",
      "distribution\n",
      "want\n",
      "time\n",
      "00 18\n",
      "use\n",
      " \n",
      "Concept 20:\n",
      "00 18\n",
      "re\n",
      "need\n",
      "would\n",
      "subject\n",
      "get\n",
      "00 44 18\n",
      "subject re\n",
      "article\n",
      "lines\n",
      " \n",
      "Concept 21:\n",
      "host\n",
      "subject\n",
      "00 1993 lines\n",
      "also\n",
      "00 1993 fujitsu\n",
      "00 38\n",
      "one\n",
      "writes\n",
      "00 18 edt\n",
      "00 38 00\n",
      " \n",
      "Concept 22:\n",
      "00 00 gmt\n",
      "posting\n",
      "also\n",
      "edu\n",
      "00 18 edt\n",
      "nntp\n",
      "nntp posting\n",
      "nntp posting host\n",
      "posting host\n",
      "one\n",
      " \n",
      "Concept 23:\n",
      "subject re\n",
      "one\n",
      "00 18 edt\n",
      "organization\n",
      "00 44 18\n",
      "posting\n",
      "university\n",
      "would\n",
      "new\n",
      "00 44\n",
      " \n",
      "Concept 24:\n",
      "one\n",
      "lines\n",
      "00 1993 lines\n",
      "would\n",
      "know\n",
      "00 1993 fujitsu\n",
      "edu\n",
      "00 38\n",
      "com\n",
      "anyone\n",
      " \n",
      "Concept 25:\n",
      "00 38 00\n",
      "00 1993 lines\n",
      "organization\n",
      "would\n",
      "writes\n",
      "subject\n",
      "00 44\n",
      "use\n",
      "distribution\n",
      "time\n",
      " \n",
      "Concept 26:\n",
      "subject\n",
      "00 00 gmt\n",
      "00 1993 fujitsu\n",
      "writes\n",
      "ca\n",
      "need\n",
      "time\n",
      "much\n",
      "ve\n",
      "would\n",
      " \n"
     ]
    }
   ],
   "source": [
    "for i, comp in enumerate(lsa.components_): \n",
    "    termsInComp = zip (terms, comp) \n",
    "    sortedTerms = sorted(termsInComp, key=lambda x: x[1], reverse=True) [:10]\n",
    "    print \"Concept %d:\" % i\n",
    "    for term in sortedTerms:\n",
    "        print term[0]\n",
    "    print \" \""
   ]
  },
  {
   "cell_type": "markdown",
   "metadata": {},
   "source": [
    "Example of ideas in Concept 2: Using power and wiring"
   ]
  },
  {
   "cell_type": "code",
   "execution_count": null,
   "metadata": {
    "collapsed": true
   },
   "outputs": [],
   "source": []
  }
 ],
 "metadata": {
  "kernelspec": {
   "display_name": "Python 2",
   "language": "python",
   "name": "python2"
  },
  "language_info": {
   "codemirror_mode": {
    "name": "ipython",
    "version": 2
   },
   "file_extension": ".py",
   "mimetype": "text/x-python",
   "name": "python",
   "nbconvert_exporter": "python",
   "pygments_lexer": "ipython2",
   "version": "2.7.10"
  }
 },
 "nbformat": 4,
 "nbformat_minor": 0
}
